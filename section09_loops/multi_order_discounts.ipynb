{
 "cells": [
  {
   "cell_type": "markdown",
   "id": "8d0a6882",
   "metadata": {},
   "source": [
    "### Apply Discounts for Multi-Order Customers\n",
    "\n",
    "We need to apply a 10% discount to every transaction in the list below.\n",
    "\n",
    "Assign the discounted transactions to a new list: `discounted_prices`."
   ]
  },
  {
   "cell_type": "code",
   "execution_count": 2,
   "id": "c8e8c4ee",
   "metadata": {},
   "outputs": [
    {
     "data": {
      "text/plain": [
       "[[1799.94, 29.98, 99.99],\n",
       " [15.98, 119.99],\n",
       " [24.99, 24.99],\n",
       " [649.99, 99.99],\n",
       " [599.99, 399.97]]"
      ]
     },
     "execution_count": 2,
     "metadata": {},
     "output_type": "execute_result"
    }
   ],
   "source": [
    "orders_c00001 = [1799.94, 29.98, 99.99]\n",
    "orders_c00004 = [15.98, 119.99]\n",
    "orders_c00006 = [24.99, 24.99]\n",
    "orders_c00008 = [649.99, 99.99]\n",
    "orders_c00010 = [599.99, 399.97]\n",
    "\n",
    "multi_order_customers = [\n",
    "    [1799.94, 29.98, 99.99],\n",
    "    [15.98, 119.99],\n",
    "    [24.99, 24.99],\n",
    "    [649.99, 99.99],\n",
    "    [599.99, 399.97]\n",
    "]\n",
    "\n",
    "multi_order_customers"
   ]
  },
  {
   "cell_type": "code",
   "execution_count": null,
   "id": "274b47ee",
   "metadata": {
    "scrolled": true
   },
   "outputs": [],
   "source": [
    "discounted_prices = []\n"
   ]
  },
  {
   "cell_type": "code",
   "execution_count": 7,
   "id": "9e87590d",
   "metadata": {},
   "outputs": [
    {
     "data": {
      "text/plain": [
       "[[1619.9460000000001, 26.982, 89.991],\n",
       " [1619.9460000000001, 26.982, 89.991],\n",
       " [1619.9460000000001, 26.982, 89.991],\n",
       " [14.382000000000001, 107.991],\n",
       " [14.382000000000001, 107.991],\n",
       " [22.491, 22.491],\n",
       " [22.491, 22.491],\n",
       " [584.991, 89.991],\n",
       " [584.991, 89.991],\n",
       " [539.991, 359.973],\n",
       " [539.991, 359.973]]"
      ]
     },
     "execution_count": 7,
     "metadata": {},
     "output_type": "execute_result"
    }
   ],
   "source": [
    "discounted_prices = []\n",
    "\n",
    "for customer_order in multi_order_customers:\n",
    "    customer_discounts = []\n",
    "    for item in customer_order:\n",
    "        discounted_price = item * 0.9\n",
    "        customer_discounts.append(discounted_price)\n",
    "        discounted_prices.append(customer_discounts)\n",
    "\n",
    "discounted_prices\n"
   ]
  }
 ],
 "metadata": {
  "kernelspec": {
   "display_name": "test_env",
   "language": "python",
   "name": "test_env"
  },
  "language_info": {
   "codemirror_mode": {
    "name": "ipython",
    "version": 3
   },
   "file_extension": ".py",
   "mimetype": "text/x-python",
   "name": "python",
   "nbconvert_exporter": "python",
   "pygments_lexer": "ipython3",
   "version": "3.7.12"
  }
 },
 "nbformat": 4,
 "nbformat_minor": 5
}
