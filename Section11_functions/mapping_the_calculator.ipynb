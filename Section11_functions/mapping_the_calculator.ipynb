{
 "cells": [
  {
   "cell_type": "markdown",
   "id": "f2dfb940",
   "metadata": {},
   "source": [
    "### Mapping the tax calculator\n",
    "\n",
    "Now that we've successfully got our tax calculator working, can you apply it to the subtotals below?\n",
    "\n",
    "Should be quick! Thanks!\n",
    "\n",
    "P.S. Don't use a loop!"
   ]
  },
  {
   "cell_type": "code",
   "execution_count": 8,
   "id": "420bf3a9",
   "metadata": {},
   "outputs": [],
   "source": [
    "# defining the variable\n",
    "subtotals = [1799.94, 99.99, 254.95, 29.98, 99.99]"
   ]
  },
  {
   "cell_type": "code",
   "execution_count": 9,
   "id": "87aa0545",
   "metadata": {},
   "outputs": [],
   "source": [
    "# import the tax_calculator\n",
    "from tax_calculator import tax_calculator"
   ]
  },
  {
   "cell_type": "code",
   "execution_count": 10,
   "id": "e95f35cf",
   "metadata": {},
   "outputs": [
    {
     "data": {
      "text/plain": [
       "[[1908, 1799.94, 0.06],\n",
       " [106, 99.99, 0.06],\n",
       " [270, 254.95, 0.06],\n",
       " [32, 29.98, 0.06],\n",
       " [106, 99.99, 0.06]]"
      ]
     },
     "execution_count": 10,
     "metadata": {},
     "output_type": "execute_result"
    }
   ],
   "source": [
    "# let us first use a for loop\n",
    "total = []\n",
    "\n",
    "for subtotal in subtotals:\n",
    "    total.append(tax_calculator(subtotal))\n",
    "\n",
    "total"
   ]
  },
  {
   "cell_type": "code",
   "execution_count": 7,
   "id": "af83a5ba",
   "metadata": {},
   "outputs": [
    {
     "data": {
      "text/plain": [
       "[[1908, 1799.94, 0.06],\n",
       " [106, 99.99, 0.06],\n",
       " [270, 254.95, 0.06],\n",
       " [32, 29.98, 0.06],\n",
       " [106, 99.99, 0.06]]"
      ]
     },
     "execution_count": 7,
     "metadata": {},
     "output_type": "execute_result"
    }
   ],
   "source": [
    "# using the map function\n",
    "list(map(tax_calculator, subtotals))"
   ]
  }
 ],
 "metadata": {
  "kernelspec": {
   "display_name": "test_env",
   "language": "python",
   "name": "test_env"
  },
  "language_info": {
   "codemirror_mode": {
    "name": "ipython",
    "version": 3
   },
   "file_extension": ".py",
   "mimetype": "text/x-python",
   "name": "python",
   "nbconvert_exporter": "python",
   "pygments_lexer": "ipython3",
   "version": "3.7.12"
  }
 },
 "nbformat": 4,
 "nbformat_minor": 5
}
