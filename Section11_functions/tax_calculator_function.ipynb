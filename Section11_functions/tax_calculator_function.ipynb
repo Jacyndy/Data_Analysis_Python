{
 "cells": [
  {
   "cell_type": "markdown",
   "id": "260aa780",
   "metadata": {},
   "source": [
    "#### Tax Calculator\n",
    "\n",
    "Write a function that takes a subtotal and a tax rate and returns the total invoice amount.\n",
    "\n",
    "* Tax is equal to subtotal multiplied by the tax rate.\n",
    "* The total is equal to subtotal plus tax."
   ]
  },
  {
   "cell_type": "code",
   "execution_count": 4,
   "id": "6ddc3a19",
   "metadata": {},
   "outputs": [],
   "source": [
    "# Definning a function for calculting tax\n",
    "\n",
    "def tax_calculator(subtotal, tax_rate):\n",
    "    \"\"\" takes in a subtotal and tax rate and returns total owed\n",
    "    \n",
    "    Args:\n",
    "        subtotal (float): cost of items in transaction\n",
    "        tax_rate (float): tax rate at store location\n",
    "        \n",
    "    Returns:\n",
    "        float: total amount owed on transaction\n",
    "    \"\"\"\n",
    "    \n",
    "    total = subtotal + (subtotal * tax_rate)\n",
    "    return total\n"
   ]
  },
  {
   "cell_type": "code",
   "execution_count": 5,
   "id": "bb359f4b",
   "metadata": {},
   "outputs": [
    {
     "data": {
      "text/plain": [
       "106.0"
      ]
     },
     "execution_count": 5,
     "metadata": {},
     "output_type": "execute_result"
    }
   ],
   "source": [
    "tax_calculator(100, .06)"
   ]
  },
  {
   "cell_type": "code",
   "execution_count": null,
   "id": "f90239be",
   "metadata": {},
   "outputs": [],
   "source": []
  }
 ],
 "metadata": {
  "kernelspec": {
   "display_name": "test_env",
   "language": "python",
   "name": "test_env"
  },
  "language_info": {
   "codemirror_mode": {
    "name": "ipython",
    "version": 3
   },
   "file_extension": ".py",
   "mimetype": "text/x-python",
   "name": "python",
   "nbconvert_exporter": "python",
   "pygments_lexer": "ipython3",
   "version": "3.7.12"
  }
 },
 "nbformat": 4,
 "nbformat_minor": 5
}
