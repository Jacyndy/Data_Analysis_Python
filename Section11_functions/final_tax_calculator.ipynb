{
 "cells": [
  {
   "cell_type": "markdown",
   "id": "15a7a09a",
   "metadata": {},
   "source": [
    "### Transaction Dictionary Creator\n",
    "\n",
    "Hi there, we need to make some final updates to our tax calculator function.\n",
    "\n",
    "We need a function takes a list of customer_ids, a list of subtotals, and a tax rate, that calls the tax_calculator on a list of subtotals, then returns a dictionary with customer_IDs as keys, and the lists returned from tax_calculator as the values.\n",
    "\n",
    "A dictionary comprehension would be very helpful here.\n",
    "\n",
    "Your function will need the following arguments:\n",
    "\n",
    "* customer_ids - a list of strings\n",
    "* subtotals - a list of numbers\n",
    "* tax_rate - the tax rate which will be passed to tax_calculator\n",
    "\n",
    "The output will be a dictionary with:\n",
    "\n",
    "* Customer IDs as keys\n",
    "* [subtotal, tax, total] as values\n",
    "\n"
   ]
  },
  {
   "cell_type": "code",
   "execution_count": 3,
   "id": "cd849cc8",
   "metadata": {},
   "outputs": [],
   "source": [
    "import tax_calculator as t\n",
    "\n",
    "customer_ids = ['C00004', 'C00007', 'C00015', 'C00016', 'C00020', 'C00010']\n",
    "\n",
    "subtotals = [15.98, 899.97, 799.97, 117.96, 5.99, 599.99]"
   ]
  },
  {
   "cell_type": "code",
   "execution_count": 5,
   "id": "d5fb2f2e",
   "metadata": {},
   "outputs": [],
   "source": [
    "def transaction_dict_creator(customer_ids, subtotals, tax_rate):\n",
    "    customer_dict = {id: t.tax_calculator(subtotal, tax_rate) for id, subtotal in zip(customer_ids, subtotals)}\n",
    "    return customer_dict\n"
   ]
  },
  {
   "cell_type": "code",
   "execution_count": 6,
   "id": "b5a7af28",
   "metadata": {},
   "outputs": [
    {
     "data": {
      "text/plain": [
       "{'C00004': [17.26, 1.28, 15.98],\n",
       " 'C00007': [971.97, 72.0, 899.97],\n",
       " 'C00015': [863.97, 64.0, 799.97],\n",
       " 'C00016': [127.4, 9.44, 117.96],\n",
       " 'C00020': [6.47, 0.48, 5.99],\n",
       " 'C00010': [647.99, 48.0, 599.99]}"
      ]
     },
     "execution_count": 6,
     "metadata": {},
     "output_type": "execute_result"
    }
   ],
   "source": [
    "transaction_dict_creator(customer_ids, subtotals, .08)"
   ]
  },
  {
   "cell_type": "code",
   "execution_count": 7,
   "id": "0b087eb8",
   "metadata": {},
   "outputs": [
    {
     "data": {
      "text/plain": [
       "{'C00004': [16.94, 0.96, 15.98],\n",
       " 'C00007': [953.97, 54.0, 899.97],\n",
       " 'C00015': [847.97, 48.0, 799.97],\n",
       " 'C00016': [125.04, 7.08, 117.96],\n",
       " 'C00020': [6.35, 0.36, 5.99],\n",
       " 'C00010': [635.99, 36.0, 599.99]}"
      ]
     },
     "execution_count": 7,
     "metadata": {},
     "output_type": "execute_result"
    }
   ],
   "source": [
    "{id: t.tax_calculator(subtotal) for id, subtotal in zip(customer_ids, subtotals)}"
   ]
  },
  {
   "cell_type": "code",
   "execution_count": 9,
   "id": "a2820944",
   "metadata": {},
   "outputs": [
    {
     "data": {
      "text/plain": [
       "{'C00004': [15.98, 1.6, 17.58],\n",
       " 'C00007': [899.97, 90.0, 989.97],\n",
       " 'C00015': [799.97, 80.0, 879.97],\n",
       " 'C00016': [117.96, 11.8, 129.76],\n",
       " 'C00020': [5.99, 0.6, 6.59],\n",
       " 'C00010': [599.99, 60.0, 659.99],\n",
       " 'C00006': [24.99, 2.5, 27.49]}"
      ]
     },
     "execution_count": 9,
     "metadata": {},
     "output_type": "execute_result"
    }
   ],
   "source": []
  },
  {
   "cell_type": "code",
   "execution_count": null,
   "id": "94c17fbd",
   "metadata": {},
   "outputs": [],
   "source": []
  }
 ],
 "metadata": {
  "kernelspec": {
   "display_name": "test_env",
   "language": "python",
   "name": "test_env"
  },
  "language_info": {
   "codemirror_mode": {
    "name": "ipython",
    "version": 3
   },
   "file_extension": ".py",
   "mimetype": "text/x-python",
   "name": "python",
   "nbconvert_exporter": "python",
   "pygments_lexer": "ipython3",
   "version": "3.7.12"
  }
 },
 "nbformat": 4,
 "nbformat_minor": 5
}
