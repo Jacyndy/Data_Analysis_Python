{
 "cells": [
  {
   "cell_type": "markdown",
   "id": "2db5877d",
   "metadata": {},
   "source": [
    "### Apply A Special Discount\n",
    "\n",
    "\n",
    "We need to apply a discount for customers who purchased more than 500 dollars worth of product – they’re starting to complain it hasn’t been applied. They need to get 10% off on their orders.\n",
    "\n",
    "\n",
    "Can you quickly apply a discount? Store the new prices in a list called `discounted_subtotals`."
   ]
  },
  {
   "cell_type": "code",
   "execution_count": 1,
   "id": "456c6f28",
   "metadata": {},
   "outputs": [],
   "source": [
    "subtotals = [15.98, 899.97, 799.97, 117.96, 5.99, 599.99]"
   ]
  },
  {
   "cell_type": "code",
   "execution_count": 20,
   "id": "cca062a4",
   "metadata": {},
   "outputs": [
    {
     "data": {
      "text/plain": [
       "[15.98, 809.97, 719.97, 117.96, 5.99, 539.99]"
      ]
     },
     "execution_count": 20,
     "metadata": {},
     "output_type": "execute_result"
    }
   ],
   "source": [
    "# using teh for loop\n",
    "discounted_subtotals =[]\n",
    "\n",
    "for subtotal in subtotals:\n",
    "    if subtotal > 500:\n",
    "        discounted_subtotals.append(round(subtotal * 0.9, 2))\n",
    "    else:\n",
    "        discounted_subtotals.append(subtotal)\n",
    "   \n",
    "\n",
    "discounted_subtotals"
   ]
  },
  {
   "cell_type": "code",
   "execution_count": 17,
   "id": "b879a184",
   "metadata": {},
   "outputs": [],
   "source": [
    "# using Lambda\n",
    "discount_subtotal = map(lambda subtotal: round(subtotal * 0.9, 2) if subtotal > 500 else subtotal, subtotals)"
   ]
  },
  {
   "cell_type": "code",
   "execution_count": 18,
   "id": "84f94a94",
   "metadata": {},
   "outputs": [
    {
     "data": {
      "text/plain": [
       "[15.98, 809.97, 719.97, 117.96, 5.99, 539.99]"
      ]
     },
     "execution_count": 18,
     "metadata": {},
     "output_type": "execute_result"
    }
   ],
   "source": [
    "# show as a list\n",
    "list(discount_subtotal)"
   ]
  }
 ],
 "metadata": {
  "kernelspec": {
   "display_name": "test_env",
   "language": "python",
   "name": "test_env"
  },
  "language_info": {
   "codemirror_mode": {
    "name": "ipython",
    "version": 3
   },
   "file_extension": ".py",
   "mimetype": "text/x-python",
   "name": "python",
   "nbconvert_exporter": "python",
   "pygments_lexer": "ipython3",
   "version": "3.7.12"
  }
 },
 "nbformat": 4,
 "nbformat_minor": 5
}
