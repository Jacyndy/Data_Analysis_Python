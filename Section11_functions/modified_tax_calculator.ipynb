{
 "cells": [
  {
   "cell_type": "markdown",
   "id": "489b9d5b",
   "metadata": {},
   "source": [
    "### Modified Tax Calculator\n",
    "\n",
    "Since the tax calculator we made was primarily for our Stowe employees, let's modify the tax calculator below to have a default tax rate of 6%. \n",
    "\n",
    "Also, we want the output of the function to return a list containing the subtotal, tax, and totals."
   ]
  },
  {
   "cell_type": "code",
   "execution_count": 5,
   "id": "4105f94b",
   "metadata": {},
   "outputs": [
    {
     "name": "stdout",
     "output_type": "stream",
     "text": [
      "Overwriting tax_calculator.py\n"
     ]
    }
   ],
   "source": [
    "%%writefile tax_calculator.py\n",
    "\n",
    "def tax_calculator(subtotal, sales_tax=0.06):\n",
    "    \"\"\"takes in a subtotal and tax rate and returns total owed\n",
    "    \n",
    "    Args:\n",
    "        subtotal (float): cost of items in transaction\n",
    "        tax_rate (float): tax rate at store location\n",
    "        \n",
    "    Returns:\n",
    "        float: total amount owed on transaction\n",
    "    \"\"\"\n",
    "    tax = round((subtotal * sales_tax), 2)\n",
    "    total = round((subtotal + tax), 2)\n",
    "    return [total, tax, subtotal]"
   ]
  },
  {
   "cell_type": "code",
   "execution_count": 4,
   "id": "2784deb1",
   "metadata": {},
   "outputs": [
    {
     "data": {
      "text/plain": [
       "[106.0, 6.0, 100]"
      ]
     },
     "execution_count": 4,
     "metadata": {},
     "output_type": "execute_result"
    }
   ],
   "source": [
    "tax_calculator(100)"
   ]
  }
 ],
 "metadata": {
  "kernelspec": {
   "display_name": "test_env",
   "language": "python",
   "name": "test_env"
  },
  "language_info": {
   "codemirror_mode": {
    "name": "ipython",
    "version": 3
   },
   "file_extension": ".py",
   "mimetype": "text/x-python",
   "name": "python",
   "nbconvert_exporter": "python",
   "pygments_lexer": "ipython3",
   "version": "3.7.12"
  }
 },
 "nbformat": 4,
 "nbformat_minor": 5
}
