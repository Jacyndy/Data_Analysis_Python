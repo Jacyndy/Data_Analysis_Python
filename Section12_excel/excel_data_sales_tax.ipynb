{
 "cells": [
  {
   "cell_type": "markdown",
   "id": "53a15102",
   "metadata": {},
   "source": [
    "### Excel Data Sales Tax\n",
    "\n",
    "We need to calculate the sales tax for customer C00010 in the excel workbook 'maven_ski_shop_data'.\n",
    "\n",
    "Their transaction should be in row 'D10'. Apply a sales tax of 8%. \n",
    "\n",
    "First:\n",
    "\n",
    "* Import the openpyxl library.\n",
    "* Then load the workbook 'maven_ski_shop_data.xlsx' into Python (this is in the current section folder).\n",
    "* Finally, assign a name to the 'Orders_Info' worksheet."
   ]
  },
  {
   "cell_type": "code",
   "execution_count": 1,
   "id": "3d9b16c3",
   "metadata": {},
   "outputs": [],
   "source": [
    "# import the necessary libraries\n",
    "\n",
    "import openpyxl as xl"
   ]
  },
  {
   "cell_type": "code",
   "execution_count": 2,
   "id": "a2bbd35f",
   "metadata": {},
   "outputs": [
    {
     "data": {
      "text/plain": [
       "<openpyxl.workbook.workbook.Workbook at 0x12dfff36e70>"
      ]
     },
     "execution_count": 2,
     "metadata": {},
     "output_type": "execute_result"
    }
   ],
   "source": [
    "# loading the excel file\n",
    "wb = xl.load_workbook(filename='maven_ski_shop_data.xlsx')\n",
    "\n",
    "wb"
   ]
  },
  {
   "cell_type": "code",
   "execution_count": 6,
   "id": "0f585b93",
   "metadata": {},
   "outputs": [],
   "source": [
    "# assigning a name to the working worksheet\n",
    "orders = wb['Orders_Info']"
   ]
  },
  {
   "cell_type": "markdown",
   "id": "29c10cac",
   "metadata": {},
   "source": [
    "### Sales Tax Calculation\n",
    "\n",
    "Ok, you should be ready to go - calculate the sales tax and total for the transaction in cell D10. \n",
    "\n",
    "Remember we already have a tax calculator function to do this! \n",
    "\n",
    "Consider printing your output with a string message!"
   ]
  },
  {
   "cell_type": "code",
   "execution_count": 11,
   "id": "9c21f0e8",
   "metadata": {},
   "outputs": [
    {
     "data": {
      "text/plain": [
       "[99.99, 8.0, 107.99]"
      ]
     },
     "execution_count": 11,
     "metadata": {},
     "output_type": "execute_result"
    }
   ],
   "source": [
    "# import the tax_calculator module\n",
    "import tax_calculator as t\n",
    "\n",
    "transaction = t.tax_calculator(orders['D10'].value, 0.08)\n",
    "\n",
    "transaction"
   ]
  },
  {
   "cell_type": "code",
   "execution_count": 13,
   "id": "094d40bd",
   "metadata": {},
   "outputs": [
    {
     "name": "stdout",
     "output_type": "stream",
     "text": [
      "Sales Tax: $8\n"
     ]
    }
   ],
   "source": [
    "# printing as string\n",
    "\n",
    "print('Sales Tax: $' + str(round(transaction[1])))\n"
   ]
  },
  {
   "cell_type": "code",
   "execution_count": 15,
   "id": "8c19ddc1",
   "metadata": {},
   "outputs": [
    {
     "data": {
      "text/plain": [
       "28"
      ]
     },
     "execution_count": 15,
     "metadata": {},
     "output_type": "execute_result"
    }
   ],
   "source": [
    "orders.max_row"
   ]
  }
 ],
 "metadata": {
  "kernelspec": {
   "display_name": "base",
   "language": "python",
   "name": "python3"
  },
  "language_info": {
   "codemirror_mode": {
    "name": "ipython",
    "version": 3
   },
   "file_extension": ".py",
   "mimetype": "text/x-python",
   "name": "python",
   "nbconvert_exporter": "python",
   "pygments_lexer": "ipython3",
   "version": "3.12.7"
  }
 },
 "nbformat": 4,
 "nbformat_minor": 5
}
