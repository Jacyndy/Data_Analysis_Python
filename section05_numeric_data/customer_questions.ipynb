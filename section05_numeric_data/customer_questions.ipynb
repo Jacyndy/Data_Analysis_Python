{
 "cells": [
  {
   "cell_type": "markdown",
   "id": "302f56b8",
   "metadata": {},
   "source": [
    "###  What are the highest and lowest priced items we sell?\n",
    "\n",
    "Based on the list of prices below. Use Python to determine this."
   ]
  },
  {
   "cell_type": "code",
   "execution_count": 4,
   "id": "5c6e2489",
   "metadata": {},
   "outputs": [],
   "source": [
    "price_list = [129.99, 99.99, 119.19, 99.99, 89.99, 79.99, 49.99]"
   ]
  },
  {
   "cell_type": "code",
   "execution_count": 5,
   "id": "d279abe5",
   "metadata": {},
   "outputs": [
    {
     "name": "stdout",
     "output_type": "stream",
     "text": [
      "129.99 49.99\n"
     ]
    }
   ],
   "source": [
    "# calculating highest and lowest price\n",
    "\n",
    "highest_price = max(price_list)\n",
    "lowest_price = min(price_list)\n",
    "\n",
    "print(highest_price, lowest_price)"
   ]
  },
  {
   "cell_type": "markdown",
   "id": "08a76ff6",
   "metadata": {},
   "source": [
    "How much would it cost for a customer to purchase two of every item in the price list?"
   ]
  },
  {
   "cell_type": "code",
   "execution_count": 7,
   "id": "d41b2963",
   "metadata": {},
   "outputs": [
    {
     "data": {
      "text/plain": [
       "1338"
      ]
     },
     "execution_count": 7,
     "metadata": {},
     "output_type": "execute_result"
    }
   ],
   "source": [
    "# to calculate two of every item, we have\n",
    "total_cost_for_two = round(2 * sum(price_list))\n",
    "total_cost_for_two"
   ]
  }
 ],
 "metadata": {
  "kernelspec": {
   "display_name": "test_env",
   "language": "python",
   "name": "test_env"
  },
  "language_info": {
   "codemirror_mode": {
    "name": "ipython",
    "version": 3
   },
   "file_extension": ".py",
   "mimetype": "text/x-python",
   "name": "python",
   "nbconvert_exporter": "python",
   "pygments_lexer": "ipython3",
   "version": "3.7.12"
  }
 },
 "nbformat": 4,
 "nbformat_minor": 5
}
