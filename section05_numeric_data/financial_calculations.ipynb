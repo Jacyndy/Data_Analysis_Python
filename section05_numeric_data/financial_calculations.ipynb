{
 "cells": [
  {
   "cell_type": "markdown",
   "id": "afeff7d2",
   "metadata": {},
   "source": [
    "### 1. Calculate the gross profit on our snowboard\n",
    "\n",
    "Formula: Price minus cost\n"
   ]
  },
  {
   "cell_type": "code",
   "execution_count": 2,
   "id": "fbdecd04",
   "metadata": {},
   "outputs": [],
   "source": [
    "# defining the variables\n",
    "snowboard_price = 499.99\n",
    "snowboard_cost = 199.99"
   ]
  },
  {
   "cell_type": "code",
   "execution_count": 3,
   "id": "882b1e08",
   "metadata": {},
   "outputs": [
    {
     "data": {
      "text/plain": [
       "300.0"
      ]
     },
     "execution_count": 3,
     "metadata": {},
     "output_type": "execute_result"
    }
   ],
   "source": [
    "# calculate gross profit\n",
    "gross_profit = snowboard_price - snowboard_cost\n",
    "\n",
    "gross_profit"
   ]
  },
  {
   "cell_type": "markdown",
   "id": "f812ebf7",
   "metadata": {},
   "source": [
    "### 2. Calculate the gross margin on our snowboard\n",
    "\n",
    "Formula: Gross profit divided by price"
   ]
  },
  {
   "cell_type": "code",
   "execution_count": 8,
   "id": "9fec0a0d",
   "metadata": {},
   "outputs": [
    {
     "data": {
      "text/plain": [
       "60"
      ]
     },
     "execution_count": 8,
     "metadata": {},
     "output_type": "execute_result"
    }
   ],
   "source": [
    "# calculating the gross margin\n",
    "gross_margin = round((gross_profit/snowboard_price) * 100)\n",
    "gross_margin"
   ]
  },
  {
   "cell_type": "markdown",
   "id": "ecb4a248",
   "metadata": {},
   "source": [
    "### 3. Calculate the price needed to obtain a gross margin of 70%\n",
    "\n",
    "Formula:  cost divided by (1 minus the desired margin)."
   ]
  },
  {
   "cell_type": "code",
   "execution_count": 6,
   "id": "ef85028e",
   "metadata": {},
   "outputs": [
    {
     "data": {
      "text/plain": [
       "666.6333333333332"
      ]
     },
     "execution_count": 6,
     "metadata": {},
     "output_type": "execute_result"
    }
   ],
   "source": [
    "desired_price = snowboard_cost/(1 - 0.7)\n",
    "desired_price"
   ]
  },
  {
   "cell_type": "markdown",
   "id": "bdf79354",
   "metadata": {},
   "source": [
    "### 4. Calculate the sales tax on a sale of our snowboard\n",
    "\n",
    "Tax rate: 8%\n",
    "\n",
    "Formula: Price times tax rate"
   ]
  },
  {
   "cell_type": "code",
   "execution_count": 9,
   "id": "9a00eb4d",
   "metadata": {},
   "outputs": [
    {
     "data": {
      "text/plain": [
       "39.9992"
      ]
     },
     "execution_count": 9,
     "metadata": {},
     "output_type": "execute_result"
    }
   ],
   "source": [
    "tax_rate = .08\n",
    "sales_tax = snowboard_price * tax_rate\n",
    "\n",
    "sales_tax "
   ]
  },
  {
   "cell_type": "markdown",
   "id": "948e0099",
   "metadata": {},
   "source": [
    "### 5. Return on Profits\n",
    "\n",
    "Calculate the amount of money we'd have if we invested the profit from selling 5 snowboards for one year.\n",
    "\n",
    "Assume an interest rate of 5%.\n",
    "\n",
    "The formula is the amount_invested plus  (amount_invested times interest_rate)"
   ]
  },
  {
   "cell_type": "code",
   "execution_count": 11,
   "id": "770afcbd",
   "metadata": {},
   "outputs": [
    {
     "data": {
      "text/plain": [
       "1575.0"
      ]
     },
     "execution_count": 11,
     "metadata": {},
     "output_type": "execute_result"
    }
   ],
   "source": [
    "amount_invested = 5 * gross_profit\n",
    "interest_rate = 0.05\n",
    "\n",
    "return_on_profits = amount_invested + (amount_invested * interest_rate)\n",
    "\n",
    "return_on_profits\n"
   ]
  }
 ],
 "metadata": {
  "kernelspec": {
   "display_name": "test_env",
   "language": "python",
   "name": "test_env"
  },
  "language_info": {
   "codemirror_mode": {
    "name": "ipython",
    "version": 3
   },
   "file_extension": ".py",
   "mimetype": "text/x-python",
   "name": "python",
   "nbconvert_exporter": "python",
   "pygments_lexer": "ipython3",
   "version": "3.7.12"
  }
 },
 "nbformat": 4,
 "nbformat_minor": 5
}
